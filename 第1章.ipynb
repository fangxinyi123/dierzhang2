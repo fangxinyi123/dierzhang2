{
 "cells": [
  {
   "cell_type": "markdown",
   "metadata": {},
   "source": [
    "## 1.4  使用matplotlib绘制图表"
   ]
  },
  {
   "cell_type": "code",
   "execution_count": null,
   "metadata": {},
   "outputs": [],
   "source": [
    "pip install -i https://pypi.tuna.tsinghua.edu.cn/simple numpy"
   ]
  },
  {
   "cell_type": "code",
   "execution_count": 1,
   "metadata": {},
   "outputs": [
    {
     "name": "stdout",
     "output_type": "stream",
     "text": [
      "Collecting numpy\n",
      "  Downloading numpy-2.3.3-cp313-cp313-win_amd64.whl.metadata (60 kB)\n",
      "Downloading numpy-2.3.3-cp313-cp313-win_amd64.whl (12.8 MB)\n",
      "   ---------------------------------------- 0.0/12.8 MB ? eta -:--:--\n",
      "    --------------------------------------- 0.3/12.8 MB ? eta -:--:--\n",
      "   -- ------------------------------------- 0.8/12.8 MB 1.9 MB/s eta 0:00:07\n",
      "   --- ------------------------------------ 1.0/12.8 MB 2.0 MB/s eta 0:00:06\n",
      "   ---- ----------------------------------- 1.6/12.8 MB 2.0 MB/s eta 0:00:06\n",
      "   ----- ---------------------------------- 1.8/12.8 MB 2.0 MB/s eta 0:00:06\n",
      "   ------- -------------------------------- 2.4/12.8 MB 2.0 MB/s eta 0:00:06\n",
      "   --------- ------------------------------ 2.9/12.8 MB 2.0 MB/s eta 0:00:06\n",
      "   --------- ------------------------------ 2.9/12.8 MB 2.0 MB/s eta 0:00:06\n",
      "   ----------- ---------------------------- 3.7/12.8 MB 2.0 MB/s eta 0:00:05\n",
      "   ------------ --------------------------- 3.9/12.8 MB 2.0 MB/s eta 0:00:05\n",
      "   ------------- -------------------------- 4.5/12.8 MB 2.0 MB/s eta 0:00:05\n",
      "   -------------- ------------------------- 4.7/12.8 MB 2.0 MB/s eta 0:00:05\n",
      "   ---------------- ----------------------- 5.2/12.8 MB 2.0 MB/s eta 0:00:04\n",
      "   ------------------ --------------------- 5.8/12.8 MB 2.0 MB/s eta 0:00:04\n",
      "   ------------------ --------------------- 6.0/12.8 MB 2.0 MB/s eta 0:00:04\n",
      "   -------------------- ------------------- 6.6/12.8 MB 2.0 MB/s eta 0:00:04\n",
      "   --------------------- ------------------ 6.8/12.8 MB 2.0 MB/s eta 0:00:04\n",
      "   ---------------------- ----------------- 7.1/12.8 MB 2.0 MB/s eta 0:00:03\n",
      "   ------------------------ --------------- 7.9/12.8 MB 2.0 MB/s eta 0:00:03\n",
      "   ------------------------- -------------- 8.1/12.8 MB 2.0 MB/s eta 0:00:03\n",
      "   -------------------------- ------------- 8.4/12.8 MB 2.0 MB/s eta 0:00:03\n",
      "   --------------------------- ------------ 8.9/12.8 MB 1.9 MB/s eta 0:00:02\n",
      "   ---------------------------- ----------- 9.2/12.8 MB 1.9 MB/s eta 0:00:02\n",
      "   ------------------------------ --------- 9.7/12.8 MB 1.9 MB/s eta 0:00:02\n",
      "   ------------------------------- -------- 10.0/12.8 MB 1.9 MB/s eta 0:00:02\n",
      "   -------------------------------- ------- 10.5/12.8 MB 1.9 MB/s eta 0:00:02\n",
      "   --------------------------------- ------ 10.7/12.8 MB 1.9 MB/s eta 0:00:02\n",
      "   ---------------------------------- ----- 11.0/12.8 MB 1.9 MB/s eta 0:00:01\n",
      "   ----------------------------------- ---- 11.3/12.8 MB 1.9 MB/s eta 0:00:01\n",
      "   ------------------------------------ --- 11.5/12.8 MB 1.9 MB/s eta 0:00:01\n",
      "   ------------------------------------- -- 12.1/12.8 MB 1.9 MB/s eta 0:00:01\n",
      "   -------------------------------------- - 12.3/12.8 MB 1.9 MB/s eta 0:00:01\n",
      "   ---------------------------------------- 12.8/12.8 MB 1.8 MB/s  0:00:06\n",
      "Installing collected packages: numpy\n",
      "Successfully installed numpy-2.3.3\n",
      "Note: you may need to restart the kernel to use updated packages.\n"
     ]
    }
   ],
   "source": [
    "pip install numpy"
   ]
  },
  {
   "cell_type": "code",
   "execution_count": 5,
   "metadata": {},
   "outputs": [
    {
     "name": "stdout",
     "output_type": "stream",
     "text": [
      "Looking in indexes: https://pypi.tuna.tsinghua.edu.cn/simple\n",
      "Requirement already satisfied: matplotlib in d:\\miniconda\\envs\\datavis\\lib\\site-packages (3.10.6)\n",
      "Requirement already satisfied: contourpy>=1.0.1 in d:\\miniconda\\envs\\datavis\\lib\\site-packages (from matplotlib) (1.3.3)\n",
      "Requirement already satisfied: cycler>=0.10 in d:\\miniconda\\envs\\datavis\\lib\\site-packages (from matplotlib) (0.12.1)\n",
      "Requirement already satisfied: fonttools>=4.22.0 in d:\\miniconda\\envs\\datavis\\lib\\site-packages (from matplotlib) (4.60.0)\n",
      "Requirement already satisfied: kiwisolver>=1.3.1 in d:\\miniconda\\envs\\datavis\\lib\\site-packages (from matplotlib) (1.4.9)\n",
      "Requirement already satisfied: numpy>=1.23 in d:\\miniconda\\envs\\datavis\\lib\\site-packages (from matplotlib) (2.3.3)\n",
      "Requirement already satisfied: packaging>=20.0 in d:\\miniconda\\envs\\datavis\\lib\\site-packages (from matplotlib) (25.0)\n",
      "Requirement already satisfied: pillow>=8 in d:\\miniconda\\envs\\datavis\\lib\\site-packages (from matplotlib) (11.3.0)\n",
      "Requirement already satisfied: pyparsing>=2.3.1 in d:\\miniconda\\envs\\datavis\\lib\\site-packages (from matplotlib) (3.2.4)\n",
      "Requirement already satisfied: python-dateutil>=2.7 in d:\\miniconda\\envs\\datavis\\lib\\site-packages (from matplotlib) (2.9.0.post0)\n",
      "Requirement already satisfied: six>=1.5 in d:\\miniconda\\envs\\datavis\\lib\\site-packages (from python-dateutil>=2.7->matplotlib) (1.17.0)\n",
      "Note: you may need to restart the kernel to use updated packages.\n"
     ]
    }
   ],
   "source": [
    "pip install -i https://pypi.tuna.tsinghua.edu.cn/simple matplotlib"
   ]
  },
  {
   "cell_type": "code",
   "execution_count": 6,
   "metadata": {},
   "outputs": [
    {
     "name": "stdout",
     "output_type": "stream",
     "text": [
      "Requirement already satisfied: matplotlib in d:\\miniconda\\envs\\datavis\\lib\\site-packages (3.10.6)\n",
      "Requirement already satisfied: contourpy>=1.0.1 in d:\\miniconda\\envs\\datavis\\lib\\site-packages (from matplotlib) (1.3.3)\n",
      "Requirement already satisfied: cycler>=0.10 in d:\\miniconda\\envs\\datavis\\lib\\site-packages (from matplotlib) (0.12.1)\n",
      "Requirement already satisfied: fonttools>=4.22.0 in d:\\miniconda\\envs\\datavis\\lib\\site-packages (from matplotlib) (4.60.0)\n",
      "Requirement already satisfied: kiwisolver>=1.3.1 in d:\\miniconda\\envs\\datavis\\lib\\site-packages (from matplotlib) (1.4.9)\n",
      "Requirement already satisfied: numpy>=1.23 in d:\\miniconda\\envs\\datavis\\lib\\site-packages (from matplotlib) (2.3.3)\n",
      "Requirement already satisfied: packaging>=20.0 in d:\\miniconda\\envs\\datavis\\lib\\site-packages (from matplotlib) (25.0)\n",
      "Requirement already satisfied: pillow>=8 in d:\\miniconda\\envs\\datavis\\lib\\site-packages (from matplotlib) (11.3.0)\n",
      "Requirement already satisfied: pyparsing>=2.3.1 in d:\\miniconda\\envs\\datavis\\lib\\site-packages (from matplotlib) (3.2.4)\n",
      "Requirement already satisfied: python-dateutil>=2.7 in d:\\miniconda\\envs\\datavis\\lib\\site-packages (from matplotlib) (2.9.0.post0)\n",
      "Requirement already satisfied: six>=1.5 in d:\\miniconda\\envs\\datavis\\lib\\site-packages (from python-dateutil>=2.7->matplotlib) (1.17.0)\n",
      "Note: you may need to restart the kernel to use updated packages.\n"
     ]
    }
   ],
   "source": [
    "pip install matplotlib"
   ]
  },
  {
   "cell_type": "code",
   "execution_count": 3,
   "metadata": {},
   "outputs": [
    {
     "data": {
      "image/png": "[encoded data removed]",
      "text/plain": [
       "<Figure size 640x480 with 1 Axes>"
      ]
     },
     "metadata": {},
     "output_type": "display_data"
    }
   ],
   "source": [
    "import numpy as np\n",
    "import matplotlib.pyplot as plt\n",
    "data = np.array([1, 2, 3, 4, 5])        # 准备数据\n",
    "fig = plt.figure()                      #  创建代表画布的Figure 类的对象fig\n",
    "ax = fig.add_subplot(223)               # 在画布fig上添加坐标系风格的绘图区域ax\n",
    "ax.plot(data)                           #  绘制图表\n",
    "plt.show()                              #  展示图表"
   ]
  },
  {
   "cell_type": "code",
   "execution_count": 4,
   "metadata": {},
   "outputs": [
    {
     "data": {
      "image/png": "[encoded data removed]",
      "text/plain": [
       "<Figure size 640x480 with 1 Axes>"
      ]
     },
     "metadata": {},
     "output_type": "display_data"
    }
   ],
   "source": [
    "import numpy as np\n",
    "import matplotlib.pyplot as plt     # 导入 pyplot 模块\n",
    "data = np.array([1, 2, 3, 4, 5])     # 准备数据\n",
    "plt.plot(data)                       # 在当前画布的绘图区域中绘制图表\n",
    "plt.show()                           # 展示图表"
   ]
  },
  {
   "cell_type": "code",
   "execution_count": null,
   "metadata": {},
   "outputs": [],
   "source": []
  }
 ],
 "metadata": {
  "kernelspec": {
   "display_name": "Python 3 (ipykernel)",
   "language": "python",
   "name": "python3"
  },
  "language_info": {
   "codemirror_mode": {
    "name": "ipython",
    "version": 3
   },
   "file_extension": ".py",
   "mimetype": "text/x-python",
   "name": "python",
   "nbconvert_exporter": "python",
   "pygments_lexer": "ipython3",
   "version": "3.13.7"
  },
  "varInspector": {
   "cols": {
    "lenName": 16,
    "lenType": 16,
    "lenVar": 40
   },
   "kernels_config": {
    "python": {
     "delete_cmd_postfix": "",
     "delete_cmd_prefix": "del ",
     "library": "var_list.py",
     "varRefreshCmd": "print(var_dic_list())"
    },
    "r": {
     "delete_cmd_postfix": ") ",
     "delete_cmd_prefix": "rm(",
     "library": "var_list.r",
     "varRefreshCmd": "cat(var_dic_list()) "
    }
   },
   "types_to_exclude": [
    "module",
    "function",
    "builtin_function_or_method",
    "instance",
    "_Feature"
   ],
   "window_display": false
  }
 },
 "nbformat": 4,
 "nbformat_minor": 4
}
